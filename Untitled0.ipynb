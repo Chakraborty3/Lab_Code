{
  "nbformat": 4,
  "nbformat_minor": 0,
  "metadata": {
    "colab": {
      "provenance": []
    },
    "kernelspec": {
      "name": "python3",
      "display_name": "Python 3"
    },
    "language_info": {
      "name": "python"
    }
  },
  "cells": [
    {
      "cell_type": "code",
      "execution_count": 1,
      "metadata": {
        "colab": {
          "base_uri": "https://localhost:8080/",
          "height": 315
        },
        "id": "imeGsJOdx1rD",
        "outputId": "04148c52-8830-4820-f6f4-ae9adbca0c24"
      },
      "outputs": [
        {
          "output_type": "error",
          "ename": "ModuleNotFoundError",
          "evalue": "No module named 'srsinst'",
          "traceback": [
            "\u001b[0;31m---------------------------------------------------------------------------\u001b[0m",
            "\u001b[0;31mModuleNotFoundError\u001b[0m                       Traceback (most recent call last)",
            "\u001b[0;32m/tmp/ipython-input-2333835020.py\u001b[0m in \u001b[0;36m<cell line: 0>\u001b[0;34m()\u001b[0m\n\u001b[0;32m----> 1\u001b[0;31m \u001b[0;32mfrom\u001b[0m \u001b[0msrsinst\u001b[0m\u001b[0;34m.\u001b[0m\u001b[0msr860\u001b[0m \u001b[0;32mimport\u001b[0m \u001b[0mSR860\u001b[0m\u001b[0;34m\u001b[0m\u001b[0;34m\u001b[0m\u001b[0m\n\u001b[0m",
            "\u001b[0;31mModuleNotFoundError\u001b[0m: No module named 'srsinst'",
            "",
            "\u001b[0;31m---------------------------------------------------------------------------\u001b[0;32m\nNOTE: If your import is failing due to a missing package, you can\nmanually install dependencies using either !pip or !apt.\n\nTo view examples of installing some common dependencies, click the\n\"Open Examples\" button below.\n\u001b[0;31m---------------------------------------------------------------------------\u001b[0m\n"
          ],
          "errorDetails": {
            "actions": [
              {
                "action": "open_url",
                "actionText": "Open Examples",
                "url": "/notebooks/snippets/importing_libraries.ipynb"
              }
            ]
          }
        }
      ],
      "source": [
        "from srsinst.sr860 import SR860"
      ]
    },
    {
      "cell_type": "code",
      "source": [
        "pip install srsinst\n"
      ],
      "metadata": {
        "colab": {
          "base_uri": "https://localhost:8080/"
        },
        "id": "ZVsskok9x_pO",
        "outputId": "cfa7faa1-2d76-428a-8ca6-03b43a1d7c58"
      },
      "execution_count": 2,
      "outputs": [
        {
          "output_type": "stream",
          "name": "stdout",
          "text": [
            "Collecting srsinst\n",
            "  Downloading srsinst-0.0.2-py3-none-any.whl.metadata (763 bytes)\n",
            "Downloading srsinst-0.0.2-py3-none-any.whl (1.5 kB)\n",
            "Installing collected packages: srsinst\n",
            "Successfully installed srsinst-0.0.2\n"
          ]
        }
      ]
    },
    {
      "cell_type": "code",
      "source": [
        "pip install srsinst.sr860"
      ],
      "metadata": {
        "colab": {
          "base_uri": "https://localhost:8080/"
        },
        "id": "C3_aWnjwyHGG",
        "outputId": "b5169054-a529-455f-85b2-205be71c756d"
      },
      "execution_count": 3,
      "outputs": [
        {
          "output_type": "stream",
          "name": "stdout",
          "text": [
            "Collecting srsinst.sr860\n",
            "  Downloading srsinst_sr860-0.3.2-py3-none-any.whl.metadata (9.1 kB)\n",
            "Requirement already satisfied: numpy in /usr/local/lib/python3.12/dist-packages (from srsinst.sr860) (2.0.2)\n",
            "Collecting python-vxi11 (from srsinst.sr860)\n",
            "  Downloading python-vxi11-0.9.tar.gz (19 kB)\n",
            "  Preparing metadata (setup.py) ... \u001b[?25l\u001b[?25hdone\n",
            "Collecting srsgui>=0.4.5 (from srsinst.sr860)\n",
            "  Downloading srsgui-0.4.6-py3-none-any.whl.metadata (4.9 kB)\n",
            "Collecting pyserial>=3 (from srsgui>=0.4.5->srsinst.sr860)\n",
            "  Downloading pyserial-3.5-py2.py3-none-any.whl.metadata (1.6 kB)\n",
            "Downloading srsinst_sr860-0.3.2-py3-none-any.whl (47 kB)\n",
            "\u001b[2K   \u001b[90m━━━━━━━━━━━━━━━━━━━━━━━━━━━━━━━━━━━━━━━━\u001b[0m \u001b[32m47.5/47.5 kB\u001b[0m \u001b[31m3.0 MB/s\u001b[0m eta \u001b[36m0:00:00\u001b[0m\n",
            "\u001b[?25hDownloading srsgui-0.4.6-py3-none-any.whl (123 kB)\n",
            "\u001b[2K   \u001b[90m━━━━━━━━━━━━━━━━━━━━━━━━━━━━━━━━━━━━━━━━\u001b[0m \u001b[32m123.4/123.4 kB\u001b[0m \u001b[31m4.9 MB/s\u001b[0m eta \u001b[36m0:00:00\u001b[0m\n",
            "\u001b[?25hDownloading pyserial-3.5-py2.py3-none-any.whl (90 kB)\n",
            "\u001b[2K   \u001b[90m━━━━━━━━━━━━━━━━━━━━━━━━━━━━━━━━━━━━━━━━\u001b[0m \u001b[32m90.6/90.6 kB\u001b[0m \u001b[31m6.1 MB/s\u001b[0m eta \u001b[36m0:00:00\u001b[0m\n",
            "\u001b[?25hBuilding wheels for collected packages: python-vxi11\n",
            "  Building wheel for python-vxi11 (setup.py) ... \u001b[?25l\u001b[?25hdone\n",
            "  Created wheel for python-vxi11: filename=python_vxi11-0.9-py3-none-any.whl size=18200 sha256=7c591b52a44b074a4a75472b584e5346290722b3d5065b925d2037b9235d58e0\n",
            "  Stored in directory: /root/.cache/pip/wheels/63/41/1a/c7747c35162efc537f4cf6d77863a4bb73e890006c01533e49\n",
            "Successfully built python-vxi11\n",
            "Installing collected packages: python-vxi11, pyserial, srsgui, srsinst.sr860\n",
            "Successfully installed pyserial-3.5 python-vxi11-0.9 srsgui-0.4.6 srsinst.sr860-0.3.2\n"
          ]
        }
      ]
    },
    {
      "cell_type": "code",
      "source": [
        "from srsinst.sr860 import SR860"
      ],
      "metadata": {
        "id": "Ps_p6vp2yOd2"
      },
      "execution_count": 4,
      "outputs": []
    },
    {
      "cell_type": "code",
      "source": [
        "pip install pyvisa"
      ],
      "metadata": {
        "colab": {
          "base_uri": "https://localhost:8080/"
        },
        "id": "-0Mq1HAZyaZe",
        "outputId": "fa501348-3cdc-4152-e774-b09def977f2e"
      },
      "execution_count": 6,
      "outputs": [
        {
          "output_type": "stream",
          "name": "stdout",
          "text": [
            "Collecting pyvisa\n",
            "  Downloading pyvisa-1.15.0-py3-none-any.whl.metadata (7.1 kB)\n",
            "Requirement already satisfied: typing_extensions>=4.0.0 in /usr/local/lib/python3.12/dist-packages (from pyvisa) (4.15.0)\n",
            "Downloading pyvisa-1.15.0-py3-none-any.whl (179 kB)\n",
            "\u001b[?25l   \u001b[90m━━━━━━━━━━━━━━━━━━━━━━━━━━━━━━━━━━━━━━━━\u001b[0m \u001b[32m0.0/179.2 kB\u001b[0m \u001b[31m?\u001b[0m eta \u001b[36m-:--:--\u001b[0m\r\u001b[2K   \u001b[91m━━━━━━━━━━━━━━━━━━━━━━━━━━━━━━━━━━━━━━\u001b[0m\u001b[91m╸\u001b[0m\u001b[90m━\u001b[0m \u001b[32m174.1/179.2 kB\u001b[0m \u001b[31m6.1 MB/s\u001b[0m eta \u001b[36m0:00:01\u001b[0m\r\u001b[2K   \u001b[90m━━━━━━━━━━━━━━━━━━━━━━━━━━━━━━━━━━━━━━━━\u001b[0m \u001b[32m179.2/179.2 kB\u001b[0m \u001b[31m4.2 MB/s\u001b[0m eta \u001b[36m0:00:00\u001b[0m\n",
            "\u001b[?25hInstalling collected packages: pyvisa\n",
            "Successfully installed pyvisa-1.15.0\n"
          ]
        }
      ]
    },
    {
      "cell_type": "code",
      "source": [
        "# only required for USB or GPIB communication\n",
        "import pyvisa as visa\n",
        "lockin = SR860('vxi11', '192.168.0.4')"
      ],
      "metadata": {
        "id": "WdZBlz1Qye_m"
      },
      "execution_count": null,
      "outputs": []
    }
  ]
}